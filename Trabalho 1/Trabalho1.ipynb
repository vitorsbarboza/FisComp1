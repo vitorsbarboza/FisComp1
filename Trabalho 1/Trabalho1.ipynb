{
 "cells": [
  {
   "cell_type": "code",
   "execution_count": 16,
   "metadata": {},
   "outputs": [
    {
     "name": "stdout",
     "output_type": "stream",
     "text": [
      "O valor da frequência é: 39788.735772973836\n"
     ]
    }
   ],
   "source": [
    "# Questão 1\n",
    "\n",
    "import numpy as np\n",
    "\n",
    "def frequencia(L,C):\n",
    "    f0 = 1/(2*np.pi*np.sqrt(L*C*(1e-12)))\n",
    "\n",
    "    return f0\n",
    "\n",
    "L = float(input(\"Digite o valor da indutância L (em mH): \"))\n",
    "C = float(input(\"Digite o valor da capacitância C (em nF): \"))\n",
    "print(f\"O valor da frequência é: {frequencia(L,C)}\")\n"
   ]
  },
  {
   "cell_type": "code",
   "execution_count": 17,
   "metadata": {},
   "outputs": [
    {
     "name": "stdout",
     "output_type": "stream",
     "text": [
      "t = 0 e produto = 0.00\n",
      "t = 1 e produto = 7.07\n",
      "t = 2 e produto = 13.63\n",
      "t = 3 e produto = 19.74\n",
      "t = 4 e produto = 25.41\n",
      "t = 5 e produto = 30.68\n",
      "t = 6 e produto = 35.58\n",
      "t = 7 e produto = 40.13\n",
      "t = 8 e produto = 44.36\n",
      "t = 9 e produto = 48.29\n",
      "t = 10 e produto = 51.94\n",
      "t = 11 e produto = 55.34\n",
      "t = 12 e produto = 58.50\n",
      "t = 13 e produto = 61.43\n",
      "t = 14 e produto = 64.15\n",
      "t = 15 e produto = 66.69\n",
      "t = 16 e produto = 69.04\n",
      "t = 17 e produto = 71.23\n",
      "t = 18 e produto = 73.26\n",
      "t = 19 e produto = 75.15\n",
      "t = 20 e produto = 76.91\n",
      "t = 21 e produto = 78.54\n",
      "t = 22 e produto = 80.05\n",
      "t = 23 e produto = 81.46\n",
      "t = 24 e produto = 82.77\n",
      "t = 25 e produto = 83.99\n",
      "t = 26 e produto = 85.12\n",
      "t = 27 e produto = 86.17\n",
      "t = 28 e produto = 87.15\n",
      "t = 29 e produto = 88.06\n",
      "t = 30 e produto = 88.90\n",
      "t = 31 e produto = 89.69\n",
      "t = 32 e produto = 90.41\n",
      "t = 33 e produto = 91.09\n",
      "t = 34 e produto = 91.72\n",
      "t = 35 e produto = 92.31\n",
      "t = 36 e produto = 92.85\n",
      "t = 37 e produto = 93.36\n",
      "t = 38 e produto = 93.82\n",
      "t = 39 e produto = 94.26\n",
      "t = 40 e produto = 94.67\n",
      "O tempo (em segundos) levado para atingir 95% é 2454 s.\n"
     ]
    }
   ],
   "source": [
    "# Quuestão 2 a) e b)\n",
    "\n",
    "import matplotlib as plt\n",
    "import numpy as np\n",
    "\n",
    "temp = int(input(\"Digite a temperatura (°C): \"))\n",
    "\n",
    "q = 2000/(temp + 273.16)\n",
    "k = np.exp(-q)\n",
    "t = 0\n",
    "produto = 0\n",
    "arquivo = open(\"produtos.txt\", 'w')\n",
    "arquivo.write(\"\")\n",
    "arquivo = open(\"produtos.txt\", 'a') \n",
    "arquivo.write(\"Tempo Produto \\n\")\n",
    "\n",
    "while produto <= 95:\n",
    "    minuto = int(t/60)\n",
    "    produto = 100*(1-np.exp(-k*t))\n",
    "    produto_formatado = \"{:.2f}\".format(produto)\n",
    "\n",
    "    if t%60 == 0:\n",
    "        arquivo.write(f'{minuto} {produto_formatado}\\n')\n",
    "        print(f\"t = {minuto} e produto = {produto_formatado}\")\n",
    "    \n",
    "    t = t + 1\n",
    "\n",
    "print(f\"O tempo (em segundos) levado para atingir 95% é {t} s.\")\n",
    "    \n",
    "arquivo.close()\n"
   ]
  },
  {
   "cell_type": "code",
   "execution_count": 18,
   "metadata": {},
   "outputs": [
    {
     "data": {
      "text/plain": [
       "<function matplotlib.pyplot.show(close=None, block=None)>"
      ]
     },
     "execution_count": 18,
     "metadata": {},
     "output_type": "execute_result"
    },
    {
     "data": {
      "image/png": "[encoded data removed]",
      "text/plain": [
       "<Figure size 432x288 with 1 Axes>"
      ]
     },
     "metadata": {
      "needs_background": "light"
     },
     "output_type": "display_data"
    }
   ],
   "source": [
    "# Questão 2 c)\n",
    "\n",
    "import matplotlib.pyplot as plt\n",
    "import pandas as pd\n",
    "\n",
    "arquivo = pd.read_csv(\"produtos.txt\", sep = \" \")\n",
    "\n",
    "x = arquivo['Tempo']\n",
    "y = arquivo['Produto']\n",
    "\n",
    "plt.plot(x,y)\n",
    "plt.xlabel(\"Tempo (minutos)\")\n",
    "plt.ylabel(\"Produto (%)\")\n",
    "plt.show\n",
    "\n"
   ]
  },
  {
   "cell_type": "code",
   "execution_count": 19,
   "metadata": {},
   "outputs": [],
   "source": [
    "# Questão 3 a) e b)\n",
    "\n",
    "R = 8.314\n",
    "T = float(input(\"Informe a Temperatura T(K): \"))\n",
    "i = 1\n",
    "nome_arquivo = input(\"Digite o nome do arquivo a ser criado: \")\n",
    "arquivo = open(f\"{nome_arquivo}.txt\", 'w')\n",
    "arquivo.write(\"\")\n",
    "arquivo = open(f\"{nome_arquivo}.txt\", 'a')\n",
    "arquivo.write(\"Pressao(kPa) Volume(L)\\n\")\n",
    "\n",
    "for P in range(50,1000,50):\n",
    "    P = P + 0.5 * i\n",
    "    V = R * T / P\n",
    "    arquivo.write(f\"{P} {V}\\n\")\n",
    "    i = i + 1\n",
    "\n",
    "\n",
    "arquivo.close()\n",
    "\n",
    "\n",
    "\n"
   ]
  },
  {
   "cell_type": "code",
   "execution_count": 20,
   "metadata": {},
   "outputs": [
    {
     "data": {
      "text/plain": [
       "<function matplotlib.pyplot.show(close=None, block=None)>"
      ]
     },
     "execution_count": 20,
     "metadata": {},
     "output_type": "execute_result"
    },
    {
     "data": {
      "image/png": "[encoded data removed]",
      "text/plain": [
       "<Figure size 432x288 with 1 Axes>"
      ]
     },
     "metadata": {
      "needs_background": "light"
     },
     "output_type": "display_data"
    }
   ],
   "source": [
    "# Questão 3 c)\n",
    "\n",
    "import pandas as np\n",
    "import matplotlib.pyplot as plt\n",
    "\n",
    "primeira = pd.read_csv(\"primeira.txt\", sep=\" \")\n",
    "segunda = pd.read_csv(\"segunda.txt\", sep=\" \")\n",
    "\n",
    "x = primeira[\"Pressao(kPa)\"]\n",
    "y1 = primeira[\"Volume(L)\"]\n",
    "y2 = segunda[\"Volume(L)\"]\n",
    "\n",
    "plt.plot(x, y1, y2)\n",
    "plt.xlabel(\"Pressão (kPa)\")\n",
    "plt.ylabel(\"Volume (L)\")\n",
    "plt.legend([\"T = 273K\", \"T = 300K\"])\n",
    "plt.title(\"Volume versus Pressão\")\n",
    "plt.show\n",
    "\n",
    "\n"
   ]
  },
  {
   "cell_type": "code",
   "execution_count": 24,
   "metadata": {},
   "outputs": [
    {
     "name": "stdout",
     "output_type": "stream",
     "text": [
      "Os dígitos verificadores são 0 e 0.\n"
     ]
    }
   ],
   "source": [
    "# Questão 4\n",
    "\n",
    "import numpy as np\n",
    "\n",
    "seq = []\n",
    "i = 1\n",
    "s1 = 0\n",
    "s2 = 0\n",
    "\n",
    "while i < 10:\n",
    "    num = int(input(\"Digite o número: \"))\n",
    "    seq.append(num)\n",
    "    i += 1\n",
    "\n",
    "for j in range(0,9):\n",
    "    s1 = s1 + (seq[j] * (j+1))\n",
    "    s2 = s2 + (seq[j] * (9-j))\n",
    "\n",
    "v1 = s1 % 11\n",
    "v2 = s2 % 11\n",
    "\n",
    "if v1 == 10:\n",
    "    v1 = 0\n",
    "\n",
    "if v2 == 0:\n",
    "    v2 = 0\n",
    "\n",
    "print(f\"Os dígitos verificadores são {v1} e {v2}.\")\n",
    "\n",
    "# item b)\n",
    "# 9 4 7 1 1 2 9 1 1 − 9 7 --> Falso\n",
    "# 1 4 9 2 1 5 2 1 9 − 4 4 --> Falso\n",
    "# 9 9 1 4 4 2 1 1 7 − 2 5 --> Falso\n",
    "# 7 2 1 4 5 3 2 2 2 − 0 5 --> Verdadeiro\n",
    "\n",
    "# item c)\n",
    "# Os dígitos verificadores são 3 e 5\n",
    "\n",
    "\n",
    "    \n",
    "\n"
   ]
  },
  {
   "cell_type": "code",
   "execution_count": null,
   "metadata": {},
   "outputs": [
    {
     "name": "stdout",
     "output_type": "stream",
     "text": [
      "O número de termos foi 18 e a sequencia é [0, 1, 1, 2, 3, 5, 8, 13, 21, 34, 55, 89, 144, 233, 377, 610, 987, 1597]\n"
     ]
    }
   ],
   "source": [
    "# Questão 5\n",
    "\n",
    "import numpy as np\n",
    "\n",
    "aurea = (1 + np.sqrt(5) )/2\n",
    "E = aurea\n",
    "i = 2\n",
    "fib = [0, 1]\n",
    "while E >= 1e-6:\n",
    "  E = aurea\n",
    "  termo = fib[i-1] + fib[i-2]\n",
    "  fib.append(termo)\n",
    "  E = np.abs(aurea - (fib[i]/fib[i-1]))\n",
    "  i += 1\n",
    "    \n",
    "print(f\"O número de termos foi {i} e a sequencia é {fib}\")"
   ]
  }
 ],
 "metadata": {
  "kernelspec": {
   "display_name": "Python 3",
   "language": "python",
   "name": "python3"
  },
  "language_info": {
   "codemirror_mode": {
    "name": "ipython",
    "version": 3
   },
   "file_extension": ".py",
   "mimetype": "text/x-python",
   "name": "python",
   "nbconvert_exporter": "python",
   "pygments_lexer": "ipython3",
   "version": "3.9.12"
  },
  "orig_nbformat": 4,
  "vscode": {
   "interpreter": {
    "hash": "ad2bdc8ecc057115af97d19610ffacc2b4e99fae6737bb82f5d7fb13d2f2c186"
   }
  }
 },
 "nbformat": 4,
 "nbformat_minor": 2
}
