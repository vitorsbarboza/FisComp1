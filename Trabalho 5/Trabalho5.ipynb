{
 "cells": [
  {
   "cell_type": "code",
   "execution_count": 8,
   "metadata": {},
   "outputs": [
    {
     "name": "stdout",
     "output_type": "stream",
     "text": [
      "[ 1. -1.  3.]\n"
     ]
    }
   ],
   "source": [
    "# Exercício 1 \n",
    "import numpy as np\n",
    "\n",
    "n = 3\n",
    "a = np.array([ [3., -2., 5.], [6., -9., 12.], [-5., 0., 2.] ])\n",
    "b = np.array([20., 51., 1.])\n",
    "\n",
    "# Matriz triangular superior :\n",
    "for k in range(n - 1) :\n",
    "  for i in range(k + 1, n) :\n",
    "    m = -a[i,k] / a[k,k]\n",
    "    a[i, k:n]  = m * a[k, k:n] + a[i, k:n] \n",
    "    b[i] = m * b[k] + b[i]\n",
    "\n",
    "x = np.zeros(n)\n",
    "# Substituição regressiva :\n",
    "for i in range(n - 1, -1, -1) :\n",
    "  soma = 0\n",
    "  for j in range(i + 1, n) :\n",
    "    soma += a[i,j] * x[j]\n",
    "  x[i] = (b[i] - soma) / a[i,i]\n",
    "\n",
    "print(x)"
   ]
  },
  {
   "cell_type": "code",
   "execution_count": 9,
   "metadata": {},
   "outputs": [
    {
     "name": "stdout",
     "output_type": "stream",
     "text": [
      "[ 1. -2.  3. -4.]\n"
     ]
    }
   ],
   "source": [
    "# Exercício 2\n",
    "import numpy as np\n",
    "\n",
    "n = 4\n",
    "a = np.array([ [2., -1., 3., 5.], [6., -3., 12., 11.], [4., -1., 10., 8.], [0., -2., -8., 10. ] ])\n",
    "b = np.array([-7., 4., 4., -60.])\n",
    "\n",
    "# Matriz triangular superior :\n",
    "for k in range(n - 1) :\n",
    "  # Pivoteamento parcial - procura da linha pivo :\n",
    "  pivo = a[k,k]\n",
    "  i_pivo = k\n",
    "  for i  in range(k + 1, n) :\n",
    "    if abs(a[i,k]) > pivo :\n",
    "      pivo = a[i,k]\n",
    "      i_pivo = i\n",
    "  # Pivoteamento parcial - Troca das linhas :\n",
    "  if i_pivo != k :\n",
    "    for j in range(k, n) :\n",
    "      aux = a[k,j]\n",
    "      a[k,j] = a[i_pivo, j]\n",
    "      a[i_pivo, j] = aux\n",
    "    aux = b[k]\n",
    "    b[k] = b[i_pivo]\n",
    "    b[i_pivo] = aux\n",
    "\n",
    "  for i in range(k + 1, n) :\n",
    "    m = -a[i,k] / a[k,k]\n",
    "    a[i, k:n]  = m * a[k, k:n] + a[i, k:n] \n",
    "    b[i] = m * b[k] + b[i]\n",
    "\n",
    "x = np.zeros(n)\n",
    "# Substituição regressiva :\n",
    "for i in range(n - 1, -1, -1) :\n",
    "  soma = 0\n",
    "  for j in range(i + 1, n) :\n",
    "    soma += a[i,j] * x[j]\n",
    "  x[i] = (b[i] - soma) / a[i,i]\n",
    "\n",
    "print(x)"
   ]
  },
  {
   "cell_type": "code",
   "execution_count": 2,
   "metadata": {},
   "outputs": [],
   "source": [
    "# Questão 3\n",
    "import numpy as np\n",
    "\n",
    "def Gauss(a, b, n) :\n",
    "    # Matriz triangular superior :\n",
    "    for k in range(n - 1) :\n",
    "        # Pivoteamento parcial - procura da linha pivo :\n",
    "        pivo = a[k,k]\n",
    "        i_pivo = k\n",
    "        for i  in range(k + 1, n) :\n",
    "            if abs(a[i,k]) > pivo :\n",
    "                pivo = a[i,k]\n",
    "                i_pivo = i\n",
    "        # Pivoteamento parcial - Troca das linhas :\n",
    "        if i_pivo != k :\n",
    "            for j in range(k, n) :\n",
    "                aux = a[k,j]\n",
    "                a[k,j] = a[i_pivo, j]\n",
    "                a[i_pivo, j] = aux\n",
    "            aux = b[k]\n",
    "            b[k] = b[i_pivo]\n",
    "            b[i_pivo] = aux\n",
    "\n",
    "        for i in range(k + 1, n) :\n",
    "            m = -a[i,k] / a[k,k]\n",
    "            a[i, k:n]  = m * a[k, k:n] + a[i, k:n] # m + linha do pivo + linha i - pd ser [k,:] ou [k,k:n]\n",
    "            b[i] = m * b[k] + b[i]\n",
    "\n",
    "    x = np.zeros(n)\n",
    "    # Substituição regressiva :\n",
    "    for i in range(n - 1, -1, -1) :\n",
    "        soma = 0\n",
    "        for j in range(i + 1, n) :\n",
    "            soma += a[i,j] * x[j]\n",
    "        x[i] = (b[i] - soma) / a[i,i]\n",
    "\n",
    "    return x"
   ]
  },
  {
   "cell_type": "code",
   "execution_count": 3,
   "metadata": {},
   "outputs": [
    {
     "name": "stdout",
     "output_type": "stream",
     "text": [
      "As tensões Vb, Vc, Vd, Ve, Vf, Vg, Vh são, respectivamente, [0.66666667 0.66666667 0.5        0.5        0.5        0.33333333\n",
      " 0.33333333].\n",
      "A resistência efetiva para todas as resistências iguais a 2 Ohms e a tensão inicial igual a 1 V é 3 Ohms.\n"
     ]
    }
   ],
   "source": [
    "# Questão 4\n",
    "import numpy as np\n",
    "\n",
    "V = 1.\n",
    "n = 7\n",
    "a = np.array([ [3., 0., -1., -1., 0., 0., 0.], [0., 3., 0., -1., -1., 0., 0.], [1., 1., 0., -4., 0., 1., 1.], [0., 0., 1., 1., 0., -3., 0.], [0., 0., 0., 1., 1., 0., -3.], [-1., 0., 2., 0., 0., -1., 0.], [0., -1., 0., 0., 2., 0., -1.] ])\n",
    "b = np.array([V, V, 0., 0., 0., 0., 0.])\n",
    "x = Gauss(a, b, n)\n",
    "print(f\"As tensões Vb, Vc, Vd, Ve, Vf, Vg, Vh são, respectivamente, {x}.\")\n",
    "\n",
    "i1 = (V - x[0] ) / 2\n",
    "i2 = (V - x[1]) / 2\n",
    "i = i1 + i2\n",
    "\n",
    "R_equivalente = V / i\n",
    "\n",
    "print(f\"A resistência efetiva para todas as resistências iguais a 2 Ohms e a tensão inicial igual a 1 V é {round(R_equivalente)} Ohms.\")\n"
   ]
  }
 ],
 "metadata": {
  "kernelspec": {
   "display_name": "Python 3",
   "language": "python",
   "name": "python3"
  },
  "language_info": {
   "codemirror_mode": {
    "name": "ipython",
    "version": 3
   },
   "file_extension": ".py",
   "mimetype": "text/x-python",
   "name": "python",
   "nbconvert_exporter": "python",
   "pygments_lexer": "ipython3",
   "version": "3.9.12"
  },
  "orig_nbformat": 4
 },
 "nbformat": 4,
 "nbformat_minor": 2
}
